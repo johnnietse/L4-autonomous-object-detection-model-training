{
  "cells": [
    {
      "cell_type": "code",
      "execution_count": null,
      "metadata": {
        "colab": {
          "base_uri": "https://localhost:8080/"
        },
        "id": "gZMed_uhSyNL",
        "outputId": "c78380ef-1ac4-4233-fe29-53c1ee088f98"
      },
      "outputs": [],
      "source": [
        "!sudo apt-get update -y\n",
        "!sudo apt-get install python3.9\n",
        "!sudo update-alternatives --install /usr/bin/python3 python3 /usr/bin/python3.9 1\n",
        "!sudo update-alternatives --config python3\n",
        "!apt-get install python3-pip\n",
        "!apt install python3.9-distutils\n",
        "!python --version\n",
        "!python -m pip install --upgrade pip --user\n",
        "!sudo apt install python3.9-dev\n"
      ]
    },
    {
      "cell_type": "code",
      "execution_count": null,
      "metadata": {
        "colab": {
          "base_uri": "https://localhost:8080/"
        },
        "id": "ilsQcHIHS3zH",
        "outputId": "2aa91c84-21a1-4c1f-b8ff-2c92b3aeed72"
      },
      "outputs": [],
      "source": [
        "! python3 --version"
      ]
    },
    {
      "cell_type": "code",
      "execution_count": null,
      "metadata": {
        "colab": {
          "base_uri": "https://localhost:8080/"
        },
        "id": "haAtAmzgS7DU",
        "outputId": "cc5845c4-f67e-4cfd-9647-8d4dd0d3c41e"
      },
      "outputs": [],
      "source": [
        "!pip install virtualenv\n",
        "!virtualenv myenv\n",
        "!source myenv/bin/activate"
      ]
    },
    {
      "cell_type": "code",
      "execution_count": null,
      "metadata": {
        "colab": {
          "base_uri": "https://localhost:8080/",
          "height": 1000
        },
        "id": "FHRzoSBeS9lf",
        "outputId": "f36e1933-c332-484e-d1bd-8eafd16cfbb4"
      },
      "outputs": [],
      "source": [
        "!pip install tflite-model-maker\n",
        "!pip install pycocotools\n",
        "!pip install ipykernel"
      ]
    },
    {
      "cell_type": "code",
      "execution_count": null,
      "metadata": {
        "colab": {
          "base_uri": "https://localhost:8080/"
        },
        "id": "NkzuJqp7TAUr",
        "outputId": "d490b053-6a06-42a8-c64e-1bd3e4704118"
      },
      "outputs": [],
      "source": [
        "!apt-get --purge remove cuda nvidia* libnvidia-*\n",
        "!dpkg -l | grep cuda- | awk '{print $2}' | xargs -n1 dpkg --purge\n",
        "!apt-get remove cuda-*\n",
        "!apt autoremove\n",
        "!apt-get update"
      ]
    },
    {
      "cell_type": "code",
      "execution_count": null,
      "metadata": {
        "colab": {
          "base_uri": "https://localhost:8080/"
        },
        "id": "ZPDchbYqTD5I",
        "outputId": "110fb338-73a3-4cc3-9998-5ce2545e9797"
      },
      "outputs": [],
      "source": [
        "!wget https://developer.download.nvidia.com/compute/cuda/11.7.0/local_installers/cuda-repo-ubuntu2204-11-7-local_11.7.0-515.43.04-1_amd64.deb\n",
        "!dpkg -i cuda-repo-ubuntu2204-11-7-local_11.7.0-515.43.04-1_amd64.deb\n",
        "!cp /var/cuda-repo-ubuntu2204-11-7-local/cuda-*-keyring.gpg /usr/share/keyrings/\n",
        "!apt update\n",
        "!apt -y install cuda"
      ]
    },
    {
      "cell_type": "code",
      "execution_count": null,
      "metadata": {
        "colab": {
          "base_uri": "https://localhost:8080/"
        },
        "id": "MRBFwbzeHoeO",
        "outputId": "6e4c5193-0e86-4b17-8cee-ac5a571074bf"
      },
      "outputs": [],
      "source": [
        "!find /usr/local/lib/python3.9/dist-packages -name \"create_pascal_tfrecord.py\""
      ]
    },
    {
      "cell_type": "code",
      "execution_count": null,
      "metadata": {
        "id": "p_0KONdyIKjh"
      },
      "outputs": [],
      "source": [
        "!sed -i 's/poses.append(obj\\['\\''pose'\\''\\].encode('\\''utf8'\\''))/poses.append(obj.get('\\''pose'\\'', '\\''Unspecified'\\'').encode('\\''utf8'\\''))/' /usr/local/lib/python3.9/dist-packages/tensorflow_examples/lite/model_maker/third_party/efficientdet/dataset/create_pascal_tfrecord.py"
      ]
    },
    {
      "cell_type": "code",
      "execution_count": null,
      "metadata": {
        "colab": {
          "base_uri": "https://localhost:8080/"
        },
        "id": "KsVHVAt9ISIg",
        "outputId": "d10b7647-9d48-47c5-bb6d-741415da6828"
      },
      "outputs": [],
      "source": [
        "!grep \"pose\" /usr/local/lib/python3.9/dist-packages/tensorflow_examples/lite/model_maker/third_party/efficientdet/dataset/create_pascal_tfrecord.py"
      ]
    },
    {
      "cell_type": "code",
      "execution_count": null,
      "metadata": {
        "id": "V7BcJyACIYrG"
      },
      "outputs": [],
      "source": [
        "import os\n",
        "os._exit(0)"
      ]
    },
    {
      "cell_type": "code",
      "execution_count": null,
      "metadata": {
        "id": "afAUrNR_TJCh"
      },
      "outputs": [],
      "source": [
        "!unzip road_sign_dataset.zip"
      ]
    },
    {
      "cell_type": "code",
      "execution_count": null,
      "metadata": {
        "id": "MjGFfgTiTMQx"
      },
      "outputs": [],
      "source": [
        "!python train_signs_model.py"
      ]
    },
    {
      "cell_type": "code",
      "execution_count": null,
      "metadata": {
        "id": "XOGPWgnZTSGH"
      },
      "outputs": [],
      "source": [
        "! python3 -m pip install --extra-index-url https://google-coral.github.io/py-repo/ pycoral\n",
        "! python3 -m pip install Pillow==9.5.0"
      ]
    },
    {
      "cell_type": "code",
      "execution_count": null,
      "metadata": {
        "id": "IhdhjY0hTTH3"
      },
      "outputs": [],
      "source": [
        "!python test_signs_model.py\n",
        "\n",
        "import os\n",
        "import matplotlib.pyplot as plt\n",
        "img = plt.imread('sign-detect-result.jpg')\n",
        "plt.imshow(img)"
      ]
    },
    {
      "cell_type": "code",
      "execution_count": null,
      "metadata": {
        "id": "tDuJF_OHTWB8"
      },
      "outputs": [],
      "source": [
        "! curl https://packages.cloud.google.com/apt/doc/apt-key.gpg | sudo apt-key add -\n",
        "! echo \"deb https://packages.cloud.google.com/apt coral-edgetpu-stable main\" | sudo tee /etc/apt/sources.list.d/coral-edgetpu.list\n",
        "! sudo apt-get update\n",
        "! sudo apt-get install edgetpu-compiler"
      ]
    },
    {
      "cell_type": "code",
      "execution_count": null,
      "metadata": {
        "id": "EZD9j0BoTZKY"
      },
      "outputs": [],
      "source": [
        "NUMBER_OF_TPUS =  1\n",
        "\n",
        "!edgetpu_compiler efficientdet-lite-signs.tflite -d --num_segments=$NUMBER_OF_TPUS"
      ]
    },
    {
      "cell_type": "code",
      "execution_count": null,
      "metadata": {
        "id": "ftj5gcujTdXA"
      },
      "outputs": [],
      "source": [
        "from google.colab import files\n",
        "\n",
        "TFLITE_FILENAME = 'efficientdet-lite-signs.tflite'\n",
        "LABELS_FILENAME = 'signs-labels.txt'\n",
        "files.download(TFLITE_FILENAME)\n",
        "files.download(TFLITE_FILENAME.replace('.tflite', '_edgetpu.tflite'))\n",
        "files.download(LABELS_FILENAME)"
      ]
    }
  ],
  "metadata": {
    "accelerator": "GPU",
    "colab": {
      "gpuType": "T4",
      "provenance": []
    },
    "kernelspec": {
      "display_name": "Python 3",
      "name": "python3"
    },
    "language_info": {
      "name": "python"
    }
  },
  "nbformat": 4,
  "nbformat_minor": 0
}
